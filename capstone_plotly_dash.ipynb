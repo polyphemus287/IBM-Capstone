{
  "nbformat": 4,
  "nbformat_minor": 0,
  "metadata": {
    "colab": {
      "provenance": [],
      "authorship_tag": "ABX9TyM4x0HWcckfCwaM9jBCRrWn",
      "include_colab_link": true
    },
    "kernelspec": {
      "name": "python3",
      "display_name": "Python 3"
    },
    "language_info": {
      "name": "python"
    }
  },
  "cells": [
    {
      "cell_type": "markdown",
      "metadata": {
        "id": "view-in-github",
        "colab_type": "text"
      },
      "source": [
        "<a href=\"https://colab.research.google.com/github/polyphemus287/IBM-Capstone/blob/main/capstone_plotly_dash.ipynb\" target=\"_parent\"><img src=\"https://colab.research.google.com/assets/colab-badge.svg\" alt=\"Open In Colab\"/></a>"
      ]
    },
    {
      "cell_type": "code",
      "source": [
        "!pip install dash\n",
        "!pip install jupyter-dash"
      ],
      "metadata": {
        "id": "jZ6t5M_MItMy"
      },
      "execution_count": null,
      "outputs": []
    },
    {
      "cell_type": "code",
      "execution_count": 3,
      "metadata": {
        "colab": {
          "base_uri": "https://localhost:8080/",
          "height": 672
        },
        "id": "JyujIb9tIKG7",
        "outputId": "7493ae1f-ba0c-4b8d-fb15-311cc3b633d0"
      },
      "outputs": [
        {
          "output_type": "display_data",
          "data": {
            "text/plain": [
              "<IPython.core.display.Javascript object>"
            ],
            "application/javascript": [
              "(async (port, path, width, height, cache, element) => {\n",
              "    if (!google.colab.kernel.accessAllowed && !cache) {\n",
              "      return;\n",
              "    }\n",
              "    element.appendChild(document.createTextNode(''));\n",
              "    const url = await google.colab.kernel.proxyPort(port, {cache});\n",
              "    const iframe = document.createElement('iframe');\n",
              "    iframe.src = new URL(path, url).toString();\n",
              "    iframe.height = height;\n",
              "    iframe.width = width;\n",
              "    iframe.style.border = 0;\n",
              "    iframe.allow = [\n",
              "        'accelerometer',\n",
              "        'autoplay',\n",
              "        'camera',\n",
              "        'clipboard-read',\n",
              "        'clipboard-write',\n",
              "        'gyroscope',\n",
              "        'magnetometer',\n",
              "        'microphone',\n",
              "        'serial',\n",
              "        'usb',\n",
              "        'xr-spatial-tracking',\n",
              "    ].join('; ');\n",
              "    element.appendChild(iframe);\n",
              "  })(8050, \"/\", \"100%\", 650, false, window.element)"
            ]
          },
          "metadata": {}
        }
      ],
      "source": [
        "# Import required libraries\n",
        "import pandas as pd\n",
        "import dash\n",
        "import dash_html_components as html\n",
        "import dash_core_components as dcc\n",
        "from dash.dependencies import Input, Output\n",
        "import plotly.express as px\n",
        "from jupyter_dash import JupyterDash\n",
        "\n",
        "\n",
        "# Read the airline data into pandas dataframe\n",
        "spacex_df = pd.read_csv(\"spacex_launch_dash.csv\")\n",
        "max_payload = spacex_df['Payload Mass (kg)'].max()\n",
        "min_payload = spacex_df['Payload Mass (kg)'].min()\n",
        "\n",
        "\n",
        "# Create options for dropdown\n",
        "launch_sites = [{'label': 'All Sites', 'value': 'ALL'}] + [{'label': site, 'value': site} for site in spacex_df['Launch Site'].unique()]\n",
        "\n",
        "\n",
        "# Create a dash application\n",
        "app = dash.Dash(__name__)\n",
        "\n",
        "\n",
        "# Create an app layout\n",
        "app.layout = html.Div(children=[html.H1('SpaceX Launch Records Dashboard',\n",
        "                                       style={'textAlign': 'center', 'color': '#503D36',\n",
        "                                              'font-size': 40}),\n",
        "                               # Add a dropdown list to enable Launch Site selection\n",
        "                               dcc.Dropdown(id='site-dropdown',\n",
        "                                            options=launch_sites,\n",
        "                                            value='ALL',\n",
        "                                            placeholder=\"Select a Launch Site here\",\n",
        "                                            searchable=True),\n",
        "                               html.Br(),\n",
        "\n",
        "\n",
        "                               # Add a pie chart to show the total successful launches count for all sites\n",
        "                               html.Div(dcc.Graph(id='success-pie-chart')),\n",
        "                               html.Br(),\n",
        "\n",
        "\n",
        "                               html.P(\"Payload range (Kg):\"),\n",
        "                               # Add a slider to select payload range\n",
        "                               dcc.RangeSlider(id='payload-slider',\n",
        "                                               min=0, max=10000, step=1000,\n",
        "                                               marks={0: '0', 10000: '10000'},\n",
        "                                               value=[min_payload, max_payload]\n",
        "                                               ),\n",
        "\n",
        "\n",
        "                               # Add a scatter chart to show the correlation between payload and launch success\n",
        "                               html.Div(dcc.Graph(id='success-payload-scatter-chart')),\n",
        "                               ])\n",
        "\n",
        "\n",
        "# Add a callback function for `site-dropdown` as input, `success-pie-chart` as output\n",
        "@app.callback(Output('success-pie-chart', 'figure'),\n",
        "             Input('site-dropdown', 'value'))\n",
        "def update_pie_chart(selected_site):\n",
        "   if selected_site == 'ALL':\n",
        "       fig = px.pie(spacex_df, names='class', title='Total Success Launches')\n",
        "   else:\n",
        "       filtered_df = spacex_df[spacex_df['Launch Site'] == selected_site]\n",
        "       fig = px.pie(filtered_df, names='class', title=f'Success Launches at {selected_site}')\n",
        "   return fig\n",
        "\n",
        "\n",
        "# Add a callback function for `site-dropdown` and `payload-slider` as inputs, `success-payload-scatter-chart` as output\n",
        "@app.callback(Output('success-payload-scatter-chart', 'figure'),\n",
        "             [Input('site-dropdown', 'value'),\n",
        "              Input('payload-slider', 'value')])\n",
        "def update_scatter_chart(selected_site, payload_range):\n",
        "   low, high = payload_range\n",
        "   filtered_df = spacex_df[(spacex_df['Payload Mass (kg)'] >= low) & (spacex_df['Payload Mass (kg)'] <= high)]\n",
        "   if selected_site == 'ALL':\n",
        "       title = f'Payload Success Correlation'\n",
        "   else:\n",
        "       filtered_df = filtered_df[filtered_df['Launch Site'] == selected_site]\n",
        "       title = f'Payload Success Correlation at {selected_site}'\n",
        "   fig = px.scatter(filtered_df, x='Payload Mass (kg)', y='class', color='Booster Version Category', title=title)\n",
        "   return fig\n",
        "\n",
        "\n",
        "# Run the app\n",
        "if __name__ == '__main__':\n",
        "   app.run_server()"
      ]
    }
  ]
}